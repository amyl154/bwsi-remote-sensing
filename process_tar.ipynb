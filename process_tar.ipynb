{
 "cells": [
  {
   "cell_type": "code",
   "execution_count": 21,
   "id": "ab2c9068-f58f-4ca5-8030-55539c1f7faa",
   "metadata": {
    "tags": []
   },
   "outputs": [
    {
     "name": "stdout",
     "output_type": "stream",
     "text": [
      "--2024-07-30 20:54:41--  https://files.bwsi-remote-sensing.net/data/xview/train_images_labels_targets.tar\n",
      "Resolving files.bwsi-remote-sensing.net (files.bwsi-remote-sensing.net)... 34.209.216.251, 35.163.206.1, 34.215.57.177, ...\n",
      "Connecting to files.bwsi-remote-sensing.net (files.bwsi-remote-sensing.net)|34.209.216.251|:443... connected.\n",
      "HTTP request sent, awaiting response... 200 OK\n",
      "Length: 8381754539 (7.8G) [application/x-tar]\n",
      "Saving to: ‘train_images_labels_targets.tar’\n",
      "\n",
      "train_images_labels 100%[===================>]   7.81G   127MB/s    in 61s     \n",
      "\n",
      "2024-07-30 20:55:42 (131 MB/s) - ‘train_images_labels_targets.tar’ saved [8381754539/8381754539]\n",
      "\n"
     ]
    }
   ],
   "source": [
    "# Download the training data\n",
    "!wget -O train_images_labels_targets.tar https://files.bwsi-remote-sensing.net/data/xview/train_images_labels_targets.tar"
   ]
  },
  {
   "cell_type": "code",
   "execution_count": 19,
   "id": "41a234ff-0645-4c23-9678-e01c6530e3b3",
   "metadata": {
    "tags": []
   },
   "outputs": [
    {
     "name": "stdout",
     "output_type": "stream",
     "text": [
      "--2024-07-30 20:52:49--  https://files.bwsi-remote-sensing.net/data/xview/test_images_labels_targets.tar\n",
      "Resolving files.bwsi-remote-sensing.net (files.bwsi-remote-sensing.net)... 35.163.206.1, 34.215.57.177, 34.209.216.251, ...\n",
      "Connecting to files.bwsi-remote-sensing.net (files.bwsi-remote-sensing.net)|35.163.206.1|:443... connected.\n",
      "HTTP request sent, awaiting response... 200 OK\n",
      "Length: 2786922308 (2.6G) [application/x-tar]\n",
      "Saving to: ‘test_images_labels_targets.tar’\n",
      "\n",
      "test_images_labels_ 100%[===================>]   2.59G  98.6MB/s    in 26s     \n",
      "\n",
      "2024-07-30 20:53:15 (102 MB/s) - ‘test_images_labels_targets.tar’ saved [2786922308/2786922308]\n",
      "\n"
     ]
    }
   ],
   "source": [
    "# Download the test data\n",
    "!wget -O test_images_labels_targets.tar https://files.bwsi-remote-sensing.net/data/xview/test_images_labels_targets.tar"
   ]
  },
  {
   "cell_type": "code",
   "execution_count": 1,
   "id": "e080be95-10b5-4755-879e-dd0c43d1a46d",
   "metadata": {},
   "outputs": [
    {
     "name": "stdout",
     "output_type": "stream",
     "text": [
      "Extraction of train_images_labels_targets.tar completed.\n",
      "Extraction of test_images_labels_targets.tar completed.\n"
     ]
    }
   ],
   "source": [
    "import tarfile\n",
    "import os\n",
    "\n",
    "# Function to extract a tar file\n",
    "def extract_tar_file(tar_path, extract_path):\n",
    "    with tarfile.open(tar_path, 'r') as tar_ref:\n",
    "        tar_ref.extractall(extract_path)\n",
    "        print(f\"Extraction of {tar_path} completed.\")\n",
    "\n",
    "# Define the paths\n",
    "train_tar_path = 'train_images_labels_targets.tar'\n",
    "test_tar_path = 'test_images_labels_targets.tar'\n",
    "train_extract_path = 'train_images_labels_targets'\n",
    "test_extract_path = 'test_images_labels_targets'\n",
    "\n",
    "# Extract the tar files\n",
    "extract_tar_file(train_tar_path, train_extract_path)\n",
    "extract_tar_file(test_tar_path, test_extract_path)"
   ]
  }
 ],
 "metadata": {
  "kernelspec": {
   "display_name": "Python 3 (ipykernel)",
   "language": "python",
   "name": "python3"
  },
  "language_info": {
   "codemirror_mode": {
    "name": "ipython",
    "version": 3
   },
   "file_extension": ".py",
   "mimetype": "text/x-python",
   "name": "python",
   "nbconvert_exporter": "python",
   "pygments_lexer": "ipython3",
   "version": "3.10.10"
  }
 },
 "nbformat": 4,
 "nbformat_minor": 5
}
